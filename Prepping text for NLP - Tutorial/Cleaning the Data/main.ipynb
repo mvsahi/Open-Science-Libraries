{
 "cells": [
  {
   "cell_type": "markdown",
   "metadata": {},
   "source": [
    "# Cleaning the Data\n",
    "\n",
    "### Installations Required\n",
    "Install regex using pip"
   ]
  },
  {
   "cell_type": "code",
   "execution_count": 4,
   "metadata": {},
   "outputs": [
    {
     "name": "stdout",
     "output_type": "stream",
     "text": [
      "Requirement already satisfied: regex in /Library/Frameworks/Python.framework/Versions/3.12/lib/python3.12/site-packages (2023.12.25)\n",
      "\n",
      "\u001b[1m[\u001b[0m\u001b[34;49mnotice\u001b[0m\u001b[1;39;49m]\u001b[0m\u001b[39;49m A new release of pip is available: \u001b[0m\u001b[31;49m23.3.2\u001b[0m\u001b[39;49m -> \u001b[0m\u001b[32;49m24.0\u001b[0m\n",
      "\u001b[1m[\u001b[0m\u001b[34;49mnotice\u001b[0m\u001b[1;39;49m]\u001b[0m\u001b[39;49m To update, run: \u001b[0m\u001b[32;49mpip install --upgrade pip\u001b[0m\n",
      "Note: you may need to restart the kernel to use updated packages.\n"
     ]
    }
   ],
   "source": [
    "pip install regex"
   ]
  },
  {
   "cell_type": "markdown",
   "metadata": {},
   "source": [
    "### Standardizing the Data\n",
    "The initial step involves converting all uppercase characters to lowercase, ensuring that words with varying capitalization are treated uniformly during processing. At times, the text may use camel case or contain typographical errors. This process helps prevent such errors. We can do this using "
   ]
  },
  {
   "cell_type": "code",
   "execution_count": 5,
   "metadata": {},
   "outputs": [
    {
     "data": {
      "text/plain": [
       "'messi is the best footballer in the world. he is an inspiration to all footballers.'"
      ]
     },
     "execution_count": 5,
     "metadata": {},
     "output_type": "execute_result"
    }
   ],
   "source": [
    "text = \"Messi is the best Footballer in the world. He is an inspiration to all footballers.\"\n",
    "text.lower()"
   ]
  },
  {
   "cell_type": "markdown",
   "metadata": {},
   "source": [
    "### Trimming Unneccesary Whitespaces\n",
    "For future proccessing, whitespaces often serve as delimitters for tokenization so it is important to handle this before applying NLP techniques. Removing whitespaces improves model performance, reduces data skew and could enhance data similarity. \n",
    "You will have to import regex for this step."
   ]
  },
  {
   "cell_type": "code",
   "execution_count": 7,
   "metadata": {},
   "outputs": [
    {
     "data": {
      "text/plain": [
       "'Goals win games, gameplay wins seasons'"
      ]
     },
     "execution_count": 7,
     "metadata": {},
     "output_type": "execute_result"
    }
   ],
   "source": [
    "text = \"Goals win games,     gameplay wins seasons\"\n",
    "import regex as re\n",
    "re.sub(r'\\s+', ' ', text)"
   ]
  },
  {
   "cell_type": "markdown",
   "metadata": {},
   "source": [
    "### Eliminating special chars\n",
    "You have to remove any non-alphanumeric value, namely special characters like - #$%^. They will not add any value to your model."
   ]
  },
  {
   "cell_type": "code",
   "execution_count": 12,
   "metadata": {},
   "outputs": [
    {
     "name": "stdout",
     "output_type": "stream",
     "text": [
      "Messi has scored a whoping 672 goals and 269 assists for FCBarcelona\n"
     ]
    }
   ],
   "source": [
    "text = \"Messi has scored a whoping 672 goals and 269 assists for @FCBarcelona!\"\n",
    "pattern = re.compile(r'[^a-zA-Z0-9\\s]')\n",
    "text = re.sub(pattern, '', text)\n",
    "print(text)"
   ]
  },
  {
   "cell_type": "markdown",
   "metadata": {},
   "source": [
    "### Remove anomalies\n",
    "Remove amonalies such as html tags."
   ]
  },
  {
   "cell_type": "code",
   "execution_count": 19,
   "metadata": {},
   "outputs": [
    {
     "name": "stdout",
     "output_type": "stream",
     "text": [
      "Who is the best player in the world? He's also known as Leo\n"
     ]
    }
   ],
   "source": [
    "text = \"<li>Who is the best player in the world?</li><li> He's also known as Leo</li>\"\n",
    "text = re.sub(\"<.*?>\",\"\",text)\n",
    "print(text)"
   ]
  },
  {
   "cell_type": "markdown",
   "metadata": {},
   "source": [
    "More often that not the text you want to process is picked up from files rather than being present as variables. To read data from files this snippet should be helpful:"
   ]
  },
  {
   "cell_type": "code",
   "execution_count": null,
   "metadata": {},
   "outputs": [],
   "source": [
    "import re\n",
    "proccesed_text = \"\"\n",
    "with open(file.txt, \"rb\") as f: #Substitute the filename with relative path to run this.\n",
    "    data = f.readlines()\n",
    "    for line in data:\n",
    "        line = line.decode('ascii','ignore')\n",
    "        proccesed_text += re.sub(\"<.*?>\",\"\",line) # For example, you can add all the steps to this for loop"
   ]
  }
 ],
 "metadata": {
  "kernelspec": {
   "display_name": "Python 3",
   "language": "python",
   "name": "python3"
  },
  "language_info": {
   "codemirror_mode": {
    "name": "ipython",
    "version": 3
   },
   "file_extension": ".py",
   "mimetype": "text/x-python",
   "name": "python",
   "nbconvert_exporter": "python",
   "pygments_lexer": "ipython3",
   "version": "3.12.1"
  }
 },
 "nbformat": 4,
 "nbformat_minor": 2
}
