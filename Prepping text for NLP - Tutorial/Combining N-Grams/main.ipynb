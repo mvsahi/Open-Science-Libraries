{
 "cells": [
  {
   "cell_type": "markdown",
   "metadata": {},
   "source": [
    "# Combining N-Grams\n",
    "N-grams are contiguous sequences of n items (words, characters, etc.) from a given sample of text or speech. Combining N-grams with descriptions and examples helps to illustrate how they capture patterns and relationships in language. Let's consider trigrams (3-grams) for this example:\n",
    "\n",
    "### Example\n",
    "Consider the sentence: \"The sun sets in the west, casting a warm glow on the horizon.\"\n",
    "Each trigram represents a unique three-word sequence in the sentence. Utilizing trigrams allows us to capture more context and semantic meaning than analyzing individual words."
   ]
  },
  {
   "cell_type": "code",
   "execution_count": 2,
   "metadata": {},
   "outputs": [
    {
     "name": "stdout",
     "output_type": "stream",
     "text": [
      "Trigrams:\n",
      "('the', 'sun', 'sets')\n",
      "('sun', 'sets', 'in')\n",
      "('sets', 'in', 'the')\n",
      "('in', 'the', 'west')\n",
      "('the', 'west', ',')\n",
      "('west', ',', 'casting')\n",
      "(',', 'casting', 'a')\n",
      "('casting', 'a', 'warm')\n",
      "('a', 'warm', 'glow')\n",
      "('warm', 'glow', 'on')\n",
      "('glow', 'on', 'the')\n",
      "('on', 'the', 'horizon')\n",
      "('the', 'horizon', '.')\n"
     ]
    }
   ],
   "source": [
    "import nltk\n",
    "from nltk import word_tokenize\n",
    "from nltk.util import ngrams\n",
    "sentence = \"The sun sets in the west, casting a warm glow on the horizon.\"\n",
    "tokens = word_tokenize(sentence.lower())  \n",
    "\n",
    "trigrams = list(ngrams(tokens, 3))\n",
    "\n",
    "print(\"Trigrams:\")\n",
    "for trigram in trigrams:\n",
    "    print(trigram)"
   ]
  },
  {
   "cell_type": "markdown",
   "metadata": {},
   "source": [
    "This Python code uses NLTK to tokenize the sentence and generate trigrams. You can customize the code for different N-gram sizes or apply it to other text samples."
   ]
  }
 ],
 "metadata": {
  "kernelspec": {
   "display_name": "Python 3",
   "language": "python",
   "name": "python3"
  },
  "language_info": {
   "codemirror_mode": {
    "name": "ipython",
    "version": 3
   },
   "file_extension": ".py",
   "mimetype": "text/x-python",
   "name": "python",
   "nbconvert_exporter": "python",
   "pygments_lexer": "ipython3",
   "version": "3.12.1"
  }
 },
 "nbformat": 4,
 "nbformat_minor": 2
}
